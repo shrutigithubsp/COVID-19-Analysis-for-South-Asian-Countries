{
 "cells": [
  {
   "cell_type": "code",
   "execution_count": 1,
   "id": "f50c44b9",
   "metadata": {},
   "outputs": [],
   "source": [
    "import pandas as pd\n",
    "import numpy as np\n",
    "import matplotlib.pyplot as plt\n",
    "import seaborn as sns"
   ]
  },
  {
   "cell_type": "code",
   "execution_count": 2,
   "id": "09292563",
   "metadata": {},
   "outputs": [],
   "source": [
    "china=pd.read_csv('China.csv')"
   ]
  },
  {
   "cell_type": "code",
   "execution_count": 3,
   "id": "681b2817",
   "metadata": {},
   "outputs": [
    {
     "data": {
      "text/html": [
       "<div>\n",
       "<style scoped>\n",
       "    .dataframe tbody tr th:only-of-type {\n",
       "        vertical-align: middle;\n",
       "    }\n",
       "\n",
       "    .dataframe tbody tr th {\n",
       "        vertical-align: top;\n",
       "    }\n",
       "\n",
       "    .dataframe thead th {\n",
       "        text-align: right;\n",
       "    }\n",
       "</style>\n",
       "<table border=\"1\" class=\"dataframe\">\n",
       "  <thead>\n",
       "    <tr style=\"text-align: right;\">\n",
       "      <th></th>\n",
       "      <th>Observation Date</th>\n",
       "      <th>Country</th>\n",
       "      <th>Confirmed</th>\n",
       "      <th>Death</th>\n",
       "      <th>Recovered</th>\n",
       "    </tr>\n",
       "  </thead>\n",
       "  <tbody>\n",
       "    <tr>\n",
       "      <th>0</th>\n",
       "      <td>01/22/2020</td>\n",
       "      <td>China</td>\n",
       "      <td>1</td>\n",
       "      <td>0</td>\n",
       "      <td>0</td>\n",
       "    </tr>\n",
       "    <tr>\n",
       "      <th>1</th>\n",
       "      <td>01/22/2020</td>\n",
       "      <td>China</td>\n",
       "      <td>14</td>\n",
       "      <td>0</td>\n",
       "      <td>0</td>\n",
       "    </tr>\n",
       "    <tr>\n",
       "      <th>2</th>\n",
       "      <td>01/22/2020</td>\n",
       "      <td>China</td>\n",
       "      <td>6</td>\n",
       "      <td>0</td>\n",
       "      <td>0</td>\n",
       "    </tr>\n",
       "    <tr>\n",
       "      <th>3</th>\n",
       "      <td>01/22/2020</td>\n",
       "      <td>China</td>\n",
       "      <td>1</td>\n",
       "      <td>0</td>\n",
       "      <td>0</td>\n",
       "    </tr>\n",
       "    <tr>\n",
       "      <th>4</th>\n",
       "      <td>01/22/2020</td>\n",
       "      <td>China</td>\n",
       "      <td>0</td>\n",
       "      <td>0</td>\n",
       "      <td>0</td>\n",
       "    </tr>\n",
       "    <tr>\n",
       "      <th>...</th>\n",
       "      <td>...</td>\n",
       "      <td>...</td>\n",
       "      <td>...</td>\n",
       "      <td>...</td>\n",
       "      <td>...</td>\n",
       "    </tr>\n",
       "    <tr>\n",
       "      <th>17283</th>\n",
       "      <td>05/29/2021</td>\n",
       "      <td>China</td>\n",
       "      <td>1</td>\n",
       "      <td>0</td>\n",
       "      <td>1</td>\n",
       "    </tr>\n",
       "    <tr>\n",
       "      <th>17284</th>\n",
       "      <td>05/29/2021</td>\n",
       "      <td>China</td>\n",
       "      <td>0</td>\n",
       "      <td>0</td>\n",
       "      <td>10</td>\n",
       "    </tr>\n",
       "    <tr>\n",
       "      <th>17285</th>\n",
       "      <td>05/29/2021</td>\n",
       "      <td>China</td>\n",
       "      <td>980</td>\n",
       "      <td>3</td>\n",
       "      <td>977</td>\n",
       "    </tr>\n",
       "    <tr>\n",
       "      <th>17286</th>\n",
       "      <td>05/29/2021</td>\n",
       "      <td>China</td>\n",
       "      <td>352</td>\n",
       "      <td>2</td>\n",
       "      <td>331</td>\n",
       "    </tr>\n",
       "    <tr>\n",
       "      <th>17287</th>\n",
       "      <td>05/29/2021</td>\n",
       "      <td>China</td>\n",
       "      <td>1364</td>\n",
       "      <td>1</td>\n",
       "      <td>1324</td>\n",
       "    </tr>\n",
       "  </tbody>\n",
       "</table>\n",
       "<p>17288 rows × 5 columns</p>\n",
       "</div>"
      ],
      "text/plain": [
       "      Observation Date Country  Confirmed  Death  Recovered\n",
       "0           01/22/2020   China          1      0          0\n",
       "1           01/22/2020   China         14      0          0\n",
       "2           01/22/2020   China          6      0          0\n",
       "3           01/22/2020   China          1      0          0\n",
       "4           01/22/2020   China          0      0          0\n",
       "...                ...     ...        ...    ...        ...\n",
       "17283       05/29/2021   China          1      0          1\n",
       "17284       05/29/2021   China          0      0         10\n",
       "17285       05/29/2021   China        980      3        977\n",
       "17286       05/29/2021   China        352      2        331\n",
       "17287       05/29/2021   China       1364      1       1324\n",
       "\n",
       "[17288 rows x 5 columns]"
      ]
     },
     "execution_count": 3,
     "metadata": {},
     "output_type": "execute_result"
    }
   ],
   "source": [
    "china"
   ]
  },
  {
   "cell_type": "code",
   "execution_count": 4,
   "id": "feda12c1",
   "metadata": {},
   "outputs": [
    {
     "data": {
      "text/html": [
       "<div>\n",
       "<style scoped>\n",
       "    .dataframe tbody tr th:only-of-type {\n",
       "        vertical-align: middle;\n",
       "    }\n",
       "\n",
       "    .dataframe tbody tr th {\n",
       "        vertical-align: top;\n",
       "    }\n",
       "\n",
       "    .dataframe thead th {\n",
       "        text-align: right;\n",
       "    }\n",
       "</style>\n",
       "<table border=\"1\" class=\"dataframe\">\n",
       "  <thead>\n",
       "    <tr style=\"text-align: right;\">\n",
       "      <th></th>\n",
       "      <th>Observation Date</th>\n",
       "      <th>Country</th>\n",
       "      <th>Confirmed</th>\n",
       "      <th>Death</th>\n",
       "      <th>Recovered</th>\n",
       "    </tr>\n",
       "  </thead>\n",
       "  <tbody>\n",
       "    <tr>\n",
       "      <th>0</th>\n",
       "      <td>01/22/2020</td>\n",
       "      <td>China</td>\n",
       "      <td>1</td>\n",
       "      <td>0</td>\n",
       "      <td>0</td>\n",
       "    </tr>\n",
       "    <tr>\n",
       "      <th>1</th>\n",
       "      <td>01/22/2020</td>\n",
       "      <td>China</td>\n",
       "      <td>14</td>\n",
       "      <td>0</td>\n",
       "      <td>0</td>\n",
       "    </tr>\n",
       "    <tr>\n",
       "      <th>2</th>\n",
       "      <td>01/22/2020</td>\n",
       "      <td>China</td>\n",
       "      <td>6</td>\n",
       "      <td>0</td>\n",
       "      <td>0</td>\n",
       "    </tr>\n",
       "    <tr>\n",
       "      <th>3</th>\n",
       "      <td>01/22/2020</td>\n",
       "      <td>China</td>\n",
       "      <td>1</td>\n",
       "      <td>0</td>\n",
       "      <td>0</td>\n",
       "    </tr>\n",
       "    <tr>\n",
       "      <th>4</th>\n",
       "      <td>01/22/2020</td>\n",
       "      <td>China</td>\n",
       "      <td>0</td>\n",
       "      <td>0</td>\n",
       "      <td>0</td>\n",
       "    </tr>\n",
       "  </tbody>\n",
       "</table>\n",
       "</div>"
      ],
      "text/plain": [
       "  Observation Date Country  Confirmed  Death  Recovered\n",
       "0       01/22/2020   China          1      0          0\n",
       "1       01/22/2020   China         14      0          0\n",
       "2       01/22/2020   China          6      0          0\n",
       "3       01/22/2020   China          1      0          0\n",
       "4       01/22/2020   China          0      0          0"
      ]
     },
     "execution_count": 4,
     "metadata": {},
     "output_type": "execute_result"
    }
   ],
   "source": [
    "china.head()"
   ]
  },
  {
   "cell_type": "code",
   "execution_count": 5,
   "id": "0592ff10",
   "metadata": {},
   "outputs": [
    {
     "data": {
      "text/html": [
       "<div>\n",
       "<style scoped>\n",
       "    .dataframe tbody tr th:only-of-type {\n",
       "        vertical-align: middle;\n",
       "    }\n",
       "\n",
       "    .dataframe tbody tr th {\n",
       "        vertical-align: top;\n",
       "    }\n",
       "\n",
       "    .dataframe thead th {\n",
       "        text-align: right;\n",
       "    }\n",
       "</style>\n",
       "<table border=\"1\" class=\"dataframe\">\n",
       "  <thead>\n",
       "    <tr style=\"text-align: right;\">\n",
       "      <th></th>\n",
       "      <th>Confirmed</th>\n",
       "      <th>Death</th>\n",
       "      <th>Recovered</th>\n",
       "    </tr>\n",
       "  </thead>\n",
       "  <tbody>\n",
       "    <tr>\n",
       "      <th>count</th>\n",
       "      <td>17288.000000</td>\n",
       "      <td>17288.000000</td>\n",
       "      <td>17288.000000</td>\n",
       "    </tr>\n",
       "    <tr>\n",
       "      <th>mean</th>\n",
       "      <td>2535.808364</td>\n",
       "      <td>123.720731</td>\n",
       "      <td>2291.343707</td>\n",
       "    </tr>\n",
       "    <tr>\n",
       "      <th>std</th>\n",
       "      <td>11029.930344</td>\n",
       "      <td>705.049914</td>\n",
       "      <td>10052.685792</td>\n",
       "    </tr>\n",
       "    <tr>\n",
       "      <th>min</th>\n",
       "      <td>0.000000</td>\n",
       "      <td>0.000000</td>\n",
       "      <td>0.000000</td>\n",
       "    </tr>\n",
       "    <tr>\n",
       "      <th>25%</th>\n",
       "      <td>157.000000</td>\n",
       "      <td>1.000000</td>\n",
       "      <td>145.000000</td>\n",
       "    </tr>\n",
       "    <tr>\n",
       "      <th>50%</th>\n",
       "      <td>406.000000</td>\n",
       "      <td>2.000000</td>\n",
       "      <td>365.000000</td>\n",
       "    </tr>\n",
       "    <tr>\n",
       "      <th>75%</th>\n",
       "      <td>961.000000</td>\n",
       "      <td>6.000000</td>\n",
       "      <td>936.000000</td>\n",
       "    </tr>\n",
       "    <tr>\n",
       "      <th>max</th>\n",
       "      <td>68159.000000</td>\n",
       "      <td>4512.000000</td>\n",
       "      <td>64435.000000</td>\n",
       "    </tr>\n",
       "  </tbody>\n",
       "</table>\n",
       "</div>"
      ],
      "text/plain": [
       "          Confirmed         Death     Recovered\n",
       "count  17288.000000  17288.000000  17288.000000\n",
       "mean    2535.808364    123.720731   2291.343707\n",
       "std    11029.930344    705.049914  10052.685792\n",
       "min        0.000000      0.000000      0.000000\n",
       "25%      157.000000      1.000000    145.000000\n",
       "50%      406.000000      2.000000    365.000000\n",
       "75%      961.000000      6.000000    936.000000\n",
       "max    68159.000000   4512.000000  64435.000000"
      ]
     },
     "execution_count": 5,
     "metadata": {},
     "output_type": "execute_result"
    }
   ],
   "source": [
    "china.describe()"
   ]
  },
  {
   "cell_type": "code",
   "execution_count": 6,
   "id": "a93ac4e8",
   "metadata": {},
   "outputs": [
    {
     "data": {
      "text/plain": [
       "Observation Date    object\n",
       "Country             object\n",
       "Confirmed            int64\n",
       "Death                int64\n",
       "Recovered            int64\n",
       "dtype: object"
      ]
     },
     "execution_count": 6,
     "metadata": {},
     "output_type": "execute_result"
    }
   ],
   "source": [
    "china.dtypes"
   ]
  },
  {
   "cell_type": "code",
   "execution_count": 7,
   "id": "f0900ab9",
   "metadata": {},
   "outputs": [
    {
     "name": "stdout",
     "output_type": "stream",
     "text": [
      "      Observation Date Country  Confirmed  Death  Recovered  Month\n",
      "0           2020-01-22   China          1      0          0    1.0\n",
      "1           2020-01-22   China         14      0          0    1.0\n",
      "2           2020-01-22   China          6      0          0    1.0\n",
      "3           2020-01-22   China          1      0          0    1.0\n",
      "4           2020-01-22   China          0      0          0    1.0\n",
      "...                ...     ...        ...    ...        ...    ...\n",
      "17283       2021-05-29   China          1      0          1    5.0\n",
      "17284       2021-05-29   China          0      0         10    5.0\n",
      "17285       2021-05-29   China        980      3        977    5.0\n",
      "17286       2021-05-29   China        352      2        331    5.0\n",
      "17287       2021-05-29   China       1364      1       1324    5.0\n",
      "\n",
      "[17288 rows x 6 columns]\n"
     ]
    },
    {
     "name": "stderr",
     "output_type": "stream",
     "text": [
      "C:\\Users\\aryan\\AppData\\Local\\Temp\\ipykernel_11120\\656348492.py:2: UserWarning: The argument 'infer_datetime_format' is deprecated and will be removed in a future version. A strict version of it is now the default, see https://pandas.pydata.org/pdeps/0004-consistent-to-datetime-parsing.html. You can safely remove this argument.\n",
      "  china['Observation Date'] = pd.to_datetime(china['Observation Date'], errors='coerce', infer_datetime_format=True)\n"
     ]
    }
   ],
   "source": [
    "# Assuming 'china' is your DataFrame\n",
    "china['Observation Date'] = pd.to_datetime(china['Observation Date'], errors='coerce', infer_datetime_format=True)\n",
    "\n",
    "# Create a new column 'Month' with the month extracted from 'Observation Date'\n",
    "china['Month'] = china['Observation Date'].dt.month\n",
    "\n",
    "# Now, 'Observation Date' is kept in the dataframe, and 'Month' is added\n",
    "print(china)"
   ]
  },
  {
   "cell_type": "code",
   "execution_count": 8,
   "id": "abf73e7d",
   "metadata": {},
   "outputs": [
    {
     "name": "stdout",
     "output_type": "stream",
     "text": [
      "      Observation Date Country  Confirmed  Death  Recovered  Month\n",
      "0           2020-01-22   China          1      0          0    1.0\n",
      "1           2020-01-22   China         14      0          0    1.0\n",
      "2           2020-01-22   China          6      0          0    1.0\n",
      "3           2020-01-22   China          1      0          0    1.0\n",
      "4           2020-01-22   China          0      0          0    1.0\n",
      "...                ...     ...        ...    ...        ...    ...\n",
      "17283       2021-05-29   China          1      0          1    5.0\n",
      "17284       2021-05-29   China          0      0         10    5.0\n",
      "17285       2021-05-29   China        980      3        977    5.0\n",
      "17286       2021-05-29   China        352      2        331    5.0\n",
      "17287       2021-05-29   China       1364      1       1324    5.0\n",
      "\n",
      "[17288 rows x 6 columns]\n"
     ]
    }
   ],
   "source": [
    "# Store the modified data in a new DataFrame named 'India_new'\n",
    "china_new = china.copy()\n",
    "\n",
    "# Display the resulting DataFrame\n",
    "print(china_new)"
   ]
  },
  {
   "cell_type": "code",
   "execution_count": 9,
   "id": "c9870855",
   "metadata": {},
   "outputs": [],
   "source": [
    "china=china.drop(columns=['Month'])"
   ]
  },
  {
   "cell_type": "code",
   "execution_count": 10,
   "id": "2293c627",
   "metadata": {},
   "outputs": [
    {
     "name": "stdout",
     "output_type": "stream",
     "text": [
      "      Observation Date Country  Confirmed  Death  Recovered\n",
      "0           2020-01-22   China          1      0          0\n",
      "1           2020-01-22   China         14      0          0\n",
      "2           2020-01-22   China          6      0          0\n",
      "3           2020-01-22   China          1      0          0\n",
      "4           2020-01-22   China          0      0          0\n",
      "...                ...     ...        ...    ...        ...\n",
      "17283       2021-05-29   China          1      0          1\n",
      "17284       2021-05-29   China          0      0         10\n",
      "17285       2021-05-29   China        980      3        977\n",
      "17286       2021-05-29   China        352      2        331\n",
      "17287       2021-05-29   China       1364      1       1324\n",
      "\n",
      "[17288 rows x 5 columns]\n"
     ]
    }
   ],
   "source": [
    "print(china)"
   ]
  },
  {
   "cell_type": "code",
   "execution_count": 11,
   "id": "8ed83b7c",
   "metadata": {},
   "outputs": [
    {
     "name": "stdout",
     "output_type": "stream",
     "text": [
      "      Observation Date Country  Confirmed  Death  Recovered  Month Seasons\n",
      "0           2020-01-22   China          1      0          0    1.0  Winter\n",
      "1           2020-01-22   China         14      0          0    1.0  Winter\n",
      "2           2020-01-22   China          6      0          0    1.0  Winter\n",
      "3           2020-01-22   China          1      0          0    1.0  Winter\n",
      "4           2020-01-22   China          0      0          0    1.0  Winter\n",
      "...                ...     ...        ...    ...        ...    ...     ...\n",
      "17283       2021-05-29   China          1      0          1    5.0  Summer\n",
      "17284       2021-05-29   China          0      0         10    5.0  Summer\n",
      "17285       2021-05-29   China        980      3        977    5.0  Summer\n",
      "17286       2021-05-29   China        352      2        331    5.0  Summer\n",
      "17287       2021-05-29   China       1364      1       1324    5.0  Summer\n",
      "\n",
      "[17288 rows x 7 columns]\n"
     ]
    }
   ],
   "source": [
    "# Create a mapping of month numbers to seasons\n",
    "season_mapping = {\n",
    "    3: 'Winter',\n",
    "    4: 'Winter',\n",
    "    5: 'Summer',\n",
    "    6: 'Summer',\n",
    "    7: 'Summer',\n",
    "    8: 'Summer',\n",
    "    9: 'Monsoon',\n",
    "    10: 'Monsoon',\n",
    "    11: 'Winter',\n",
    "    12: 'Winter',\n",
    "    1: 'Winter',\n",
    "    2: 'Winter'\n",
    "}\n",
    "\n",
    "# Map the month numbers to seasons and create a new 'Seasons' column\n",
    "china_new['Seasons'] = china_new['Month'].map(season_mapping)\n",
    "\n",
    "# Display the DataFrame with the new 'Seasons' column\n",
    "print(china_new)"
   ]
  },
  {
   "cell_type": "code",
   "execution_count": 12,
   "id": "ea82f375",
   "metadata": {},
   "outputs": [
    {
     "data": {
      "text/html": [
       "<div>\n",
       "<style scoped>\n",
       "    .dataframe tbody tr th:only-of-type {\n",
       "        vertical-align: middle;\n",
       "    }\n",
       "\n",
       "    .dataframe tbody tr th {\n",
       "        vertical-align: top;\n",
       "    }\n",
       "\n",
       "    .dataframe thead th {\n",
       "        text-align: right;\n",
       "    }\n",
       "</style>\n",
       "<table border=\"1\" class=\"dataframe\">\n",
       "  <thead>\n",
       "    <tr style=\"text-align: right;\">\n",
       "      <th></th>\n",
       "      <th>Observation Date</th>\n",
       "      <th>Country</th>\n",
       "      <th>Confirmed</th>\n",
       "      <th>Death</th>\n",
       "      <th>Recovered</th>\n",
       "      <th>Month</th>\n",
       "      <th>Seasons</th>\n",
       "    </tr>\n",
       "  </thead>\n",
       "  <tbody>\n",
       "    <tr>\n",
       "      <th>0</th>\n",
       "      <td>2020-01-22</td>\n",
       "      <td>China</td>\n",
       "      <td>1</td>\n",
       "      <td>0</td>\n",
       "      <td>0</td>\n",
       "      <td>1.0</td>\n",
       "      <td>Winter</td>\n",
       "    </tr>\n",
       "    <tr>\n",
       "      <th>1</th>\n",
       "      <td>2020-01-22</td>\n",
       "      <td>China</td>\n",
       "      <td>14</td>\n",
       "      <td>0</td>\n",
       "      <td>0</td>\n",
       "      <td>1.0</td>\n",
       "      <td>Winter</td>\n",
       "    </tr>\n",
       "    <tr>\n",
       "      <th>2</th>\n",
       "      <td>2020-01-22</td>\n",
       "      <td>China</td>\n",
       "      <td>6</td>\n",
       "      <td>0</td>\n",
       "      <td>0</td>\n",
       "      <td>1.0</td>\n",
       "      <td>Winter</td>\n",
       "    </tr>\n",
       "    <tr>\n",
       "      <th>3</th>\n",
       "      <td>2020-01-22</td>\n",
       "      <td>China</td>\n",
       "      <td>1</td>\n",
       "      <td>0</td>\n",
       "      <td>0</td>\n",
       "      <td>1.0</td>\n",
       "      <td>Winter</td>\n",
       "    </tr>\n",
       "    <tr>\n",
       "      <th>4</th>\n",
       "      <td>2020-01-22</td>\n",
       "      <td>China</td>\n",
       "      <td>0</td>\n",
       "      <td>0</td>\n",
       "      <td>0</td>\n",
       "      <td>1.0</td>\n",
       "      <td>Winter</td>\n",
       "    </tr>\n",
       "  </tbody>\n",
       "</table>\n",
       "</div>"
      ],
      "text/plain": [
       "  Observation Date Country  Confirmed  Death  Recovered  Month Seasons\n",
       "0       2020-01-22   China          1      0          0    1.0  Winter\n",
       "1       2020-01-22   China         14      0          0    1.0  Winter\n",
       "2       2020-01-22   China          6      0          0    1.0  Winter\n",
       "3       2020-01-22   China          1      0          0    1.0  Winter\n",
       "4       2020-01-22   China          0      0          0    1.0  Winter"
      ]
     },
     "execution_count": 12,
     "metadata": {},
     "output_type": "execute_result"
    }
   ],
   "source": [
    "china_new.head()"
   ]
  },
  {
   "cell_type": "code",
   "execution_count": 13,
   "id": "0d8e92f3",
   "metadata": {},
   "outputs": [
    {
     "name": "stdout",
     "output_type": "stream",
     "text": [
      "      Observation Date Country  Confirmed  Death  Recovered  Month Seasons  \\\n",
      "0           2020-01-22   China          1      0          0    1.0  Winter   \n",
      "1           2020-01-22   China         14      0          0    1.0  Winter   \n",
      "2           2020-01-22   China          6      0          0    1.0  Winter   \n",
      "3           2020-01-22   China          1      0          0    1.0  Winter   \n",
      "4           2020-01-22   China          0      0          0    1.0  Winter   \n",
      "...                ...     ...        ...    ...        ...    ...     ...   \n",
      "17283       2021-05-29   China          1      0          1    5.0  Summer   \n",
      "17284       2021-05-29   China          0      0         10    5.0  Summer   \n",
      "17285       2021-05-29   China        980      3        977    5.0  Summer   \n",
      "17286       2021-05-29   China        352      2        331    5.0  Summer   \n",
      "17287       2021-05-29   China       1364      1       1324    5.0  Summer   \n",
      "\n",
      "       Active  \n",
      "0           1  \n",
      "1          14  \n",
      "2           6  \n",
      "3           1  \n",
      "4           0  \n",
      "...       ...  \n",
      "17283       0  \n",
      "17284     -10  \n",
      "17285       0  \n",
      "17286      19  \n",
      "17287      39  \n",
      "\n",
      "[17288 rows x 8 columns]\n"
     ]
    }
   ],
   "source": [
    "# Convert 'Observation Date' column to datetime format\n",
    "china_new['Observation Date'] = pd.to_datetime(china_new['Observation Date'])\n",
    "\n",
    "# Calculate active cases and add a new column 'Active'\n",
    "china_new['Active'] = china_new['Confirmed'] - china_new['Death'] - china_new['Recovered']\n",
    "\n",
    "# Now, 'Active' column is added with the active cases information\n",
    "print(china_new)"
   ]
  },
  {
   "cell_type": "code",
   "execution_count": 14,
   "id": "d2238cf2",
   "metadata": {},
   "outputs": [
    {
     "data": {
      "text/html": [
       "<div>\n",
       "<style scoped>\n",
       "    .dataframe tbody tr th:only-of-type {\n",
       "        vertical-align: middle;\n",
       "    }\n",
       "\n",
       "    .dataframe tbody tr th {\n",
       "        vertical-align: top;\n",
       "    }\n",
       "\n",
       "    .dataframe thead th {\n",
       "        text-align: right;\n",
       "    }\n",
       "</style>\n",
       "<table border=\"1\" class=\"dataframe\">\n",
       "  <thead>\n",
       "    <tr style=\"text-align: right;\">\n",
       "      <th></th>\n",
       "      <th>Observation Date</th>\n",
       "      <th>Country</th>\n",
       "      <th>Confirmed</th>\n",
       "      <th>Death</th>\n",
       "      <th>Recovered</th>\n",
       "      <th>Month</th>\n",
       "      <th>Seasons</th>\n",
       "      <th>Active</th>\n",
       "    </tr>\n",
       "  </thead>\n",
       "  <tbody>\n",
       "    <tr>\n",
       "      <th>17283</th>\n",
       "      <td>2021-05-29</td>\n",
       "      <td>China</td>\n",
       "      <td>1</td>\n",
       "      <td>0</td>\n",
       "      <td>1</td>\n",
       "      <td>5.0</td>\n",
       "      <td>Summer</td>\n",
       "      <td>0</td>\n",
       "    </tr>\n",
       "    <tr>\n",
       "      <th>17284</th>\n",
       "      <td>2021-05-29</td>\n",
       "      <td>China</td>\n",
       "      <td>0</td>\n",
       "      <td>0</td>\n",
       "      <td>10</td>\n",
       "      <td>5.0</td>\n",
       "      <td>Summer</td>\n",
       "      <td>-10</td>\n",
       "    </tr>\n",
       "    <tr>\n",
       "      <th>17285</th>\n",
       "      <td>2021-05-29</td>\n",
       "      <td>China</td>\n",
       "      <td>980</td>\n",
       "      <td>3</td>\n",
       "      <td>977</td>\n",
       "      <td>5.0</td>\n",
       "      <td>Summer</td>\n",
       "      <td>0</td>\n",
       "    </tr>\n",
       "    <tr>\n",
       "      <th>17286</th>\n",
       "      <td>2021-05-29</td>\n",
       "      <td>China</td>\n",
       "      <td>352</td>\n",
       "      <td>2</td>\n",
       "      <td>331</td>\n",
       "      <td>5.0</td>\n",
       "      <td>Summer</td>\n",
       "      <td>19</td>\n",
       "    </tr>\n",
       "    <tr>\n",
       "      <th>17287</th>\n",
       "      <td>2021-05-29</td>\n",
       "      <td>China</td>\n",
       "      <td>1364</td>\n",
       "      <td>1</td>\n",
       "      <td>1324</td>\n",
       "      <td>5.0</td>\n",
       "      <td>Summer</td>\n",
       "      <td>39</td>\n",
       "    </tr>\n",
       "  </tbody>\n",
       "</table>\n",
       "</div>"
      ],
      "text/plain": [
       "      Observation Date Country  Confirmed  Death  Recovered  Month Seasons  \\\n",
       "17283       2021-05-29   China          1      0          1    5.0  Summer   \n",
       "17284       2021-05-29   China          0      0         10    5.0  Summer   \n",
       "17285       2021-05-29   China        980      3        977    5.0  Summer   \n",
       "17286       2021-05-29   China        352      2        331    5.0  Summer   \n",
       "17287       2021-05-29   China       1364      1       1324    5.0  Summer   \n",
       "\n",
       "       Active  \n",
       "17283       0  \n",
       "17284     -10  \n",
       "17285       0  \n",
       "17286      19  \n",
       "17287      39  "
      ]
     },
     "execution_count": 14,
     "metadata": {},
     "output_type": "execute_result"
    }
   ],
   "source": [
    "china_new.tail()"
   ]
  },
  {
   "cell_type": "code",
   "execution_count": 15,
   "id": "2e2cb44d",
   "metadata": {},
   "outputs": [
    {
     "data": {
      "image/png": "[encoded data removed]",
      "text/plain": [
       "<Figure size 800x800 with 1 Axes>"
      ]
     },
     "metadata": {},
     "output_type": "display_data"
    }
   ],
   "source": [
    "seasonal_active = china_new.groupby('Seasons')['Active'].sum()\n",
    "\n",
    "# Custom bright and dark color palette\n",
    "colors = ['#ff6666', '#ffd966', '#66b3ff', '#99ff99']\n",
    "\n",
    "# Create a pie chart with the custom color palette\n",
    "plt.figure(figsize=(8, 8))\n",
    "plt.pie(seasonal_active, labels=seasonal_active.index, autopct='%1.1f%%', startangle=90, colors=colors)\n",
    "plt.title('Distribution of Active Cases by Season')\n",
    "plt.show()"
   ]
  },
  {
   "cell_type": "code",
   "execution_count": 16,
   "id": "fa31ad55",
   "metadata": {},
   "outputs": [
    {
     "data": {
      "image/png": "[encoded data removed]",
      "text/plain": [
       "<Figure size 800x400 with 1 Axes>"
      ]
     },
     "metadata": {},
     "output_type": "display_data"
    }
   ],
   "source": [
    "# Plot 1: Confirmed cases over time\n",
    "plt.figure(figsize=(8,4))\n",
    "sns.lineplot(x='Observation Date', y='Confirmed', data=china_new, marker='o')\n",
    "plt.title('Confirmed Cases Over Time')\n",
    "plt.xlabel('Observation Date')\n",
    "plt.ylabel('Confirmed Cases')\n",
    "plt.show()"
   ]
  },
  {
   "cell_type": "code",
   "execution_count": 17,
   "id": "f052137e",
   "metadata": {},
   "outputs": [
    {
     "data": {
      "image/png": "[encoded data removed]",
      "text/plain": [
       "<Figure size 800x400 with 1 Axes>"
      ]
     },
     "metadata": {},
     "output_type": "display_data"
    }
   ],
   "source": [
    "# Plot 2: Active cases over time\n",
    "plt.figure(figsize=(8, 4))\n",
    "sns.lineplot(x='Observation Date', y='Active', data=china_new, marker='o', color='red')\n",
    "plt.title('Active Cases Over Time')\n",
    "plt.xlabel('Observation Date')\n",
    "plt.ylabel('Active Cases')\n",
    "plt.show()"
   ]
  },
  {
   "cell_type": "code",
   "execution_count": 18,
   "id": "86174331",
   "metadata": {},
   "outputs": [
    {
     "data": {
      "image/png": "[encoded data removed]",
      "text/plain": [
       "<Figure size 1000x400 with 1 Axes>"
      ]
     },
     "metadata": {},
     "output_type": "display_data"
    }
   ],
   "source": [
    "# Plot 1: Bar chart for Confirmed, Death, Recovered, and Active cases based on seasons\n",
    "fig, ax = plt.subplots(figsize=(10, 4))\n",
    "china_new.groupby('Seasons')[['Confirmed', 'Death', 'Recovered', 'Active']].sum().plot(kind='bar', ax=ax)\n",
    "plt.title('Total Cases Based on Seasons')\n",
    "plt.xlabel('Seasons')\n",
    "plt.ylabel('Total Cases')\n",
    "plt.show()"
   ]
  },
  {
   "cell_type": "code",
   "execution_count": null,
   "id": "04580971",
   "metadata": {},
   "outputs": [],
   "source": []
  },
  {
   "cell_type": "code",
   "execution_count": null,
   "id": "cfdf1ad8",
   "metadata": {},
   "outputs": [],
   "source": []
  }
 ],
 "metadata": {
  "kernelspec": {
   "display_name": "Python 3 (ipykernel)",
   "language": "python",
   "name": "python3"
  },
  "language_info": {
   "codemirror_mode": {
    "name": "ipython",
    "version": 3
   },
   "file_extension": ".py",
   "mimetype": "text/x-python",
   "name": "python",
   "nbconvert_exporter": "python",
   "pygments_lexer": "ipython3",
   "version": "3.11.5"
  }
 },
 "nbformat": 4,
 "nbformat_minor": 5
}
